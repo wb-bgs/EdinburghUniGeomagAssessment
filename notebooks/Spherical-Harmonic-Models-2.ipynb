{
 "cells": [
  {
   "cell_type": "markdown",
   "metadata": {},
   "source": [
    "<h1><center>University of Edinburgh Geomagnetism Tutorial</center></h1>\n",
    "\n",
    "<h1><center>Spherical Harmonic Models 2</center></h1>"
   ]
  },
  {
   "cell_type": "code",
   "execution_count": null,
   "metadata": {},
   "outputs": [],
   "source": [
    "# Import notebook dependencies\n",
    "\n",
    "import sys\n",
    "sys.path.append('..')\n",
    "import matplotlib.pyplot as plt\n",
    "plt.style.use('seaborn-white')\n",
    "import numpy as np\n",
    "import pandas as pd \n",
    "from src import sha_lib as sha\n",
    "import os"
   ]
  },
  {
   "cell_type": "markdown",
   "metadata": {},
   "source": [
    "# 1. Another example of modelling using spherical harmonics\n",
    "\n",
    "What happens if we tried to model the land/sea variation of the Earth.\n",
    "\n",
    "First, there's a data file with some spatial data to plot."
   ]
  },
  {
   "cell_type": "code",
   "execution_count": null,
   "metadata": {},
   "outputs": [],
   "source": [
    "# Load the data\n",
    "lsfile = '../external/land_5deg.csv'\n",
    "lsdata = np.genfromtxt(lsfile, delimiter=',')\n",
    "\n",
    "x = lsdata[:,0].reshape(36, 72)\n",
    "y = lsdata[:,1].reshape(36,72)\n",
    "z = lsdata[:,2].reshape(36,72)\n",
    "\n",
    "# Plot them\n",
    "plt.rcParams['figure.figsize'] = [15, 8]\n",
    "plt.contourf(x,y,z)\n",
    "plt.colorbar()\n",
    "plt.show()"
   ]
  },
  {
   "cell_type": "markdown",
   "metadata": {},
   "source": [
    "The data file consists of binary values (1=land, 0=water) on a 5-degree grid. We now take these data as the input to a global spherical harmonic analysis and calculate a spherical harmonic model with a user specified resolution."
   ]
  },
  {
   "cell_type": "markdown",
   "metadata": {},
   "source": [
    "### >> USER INPUT HERE: Set the maximum spherical harmonic degree of the analysis\n",
    "What is a reasonable value? Try different values e.g. low degree (nmax = 5), medium degree (nmax = 13), high degree (nmax > 20)"
   ]
  },
  {
   "cell_type": "code",
   "execution_count": null,
   "metadata": {},
   "outputs": [],
   "source": [
    "nmax = 5 # Max degree"
   ]
  },
  {
   "cell_type": "code",
   "execution_count": null,
   "metadata": {},
   "outputs": [],
   "source": [
    "# These functions are used for the spherical harmonic analysis and synthesis steps\n",
    "# Firstly compute a spherical harmonic model of degree and order nmax using the input data as plotted above\n",
    "def sh_analysis(lsdata, nmax):\n",
    "    npar = (nmax+1)*(nmax+1)\n",
    "    ndat = len(lsdata)\n",
    "    lhs  = np.zeros(npar*ndat).reshape(ndat,npar)\n",
    "\n",
    "    rhs  = np.zeros(ndat)\n",
    "    line = np.zeros(npar)\n",
    "    ic   = -1\n",
    "    for i in range(ndat):\n",
    "        th  = 90 - lsdata[i][1]\n",
    "        ph  = lsdata[i][0] \n",
    "        rhs[i] = lsdata[i][2]\n",
    "        cmphi, smphi = sha.csmphi(nmax,ph)\n",
    "        pnm = sha.pnm_calc(nmax, th)\n",
    "        for n in range(nmax+1):\n",
    "            igx = sha.gnmindex(n,0)\n",
    "            ipx = sha.pnmindex(n,0)\n",
    "            line[igx] = pnm[ipx]\n",
    "            for m in range(1,n+1):\n",
    "                igx = sha.gnmindex(n,m)\n",
    "                ihx = sha.hnmindex(n,m)\n",
    "                ipx = sha.pnmindex(n,m)\n",
    "                line[igx] = pnm[ipx]*cmphi[m]\n",
    "                line[ihx] = pnm[ipx]*smphi[m]\n",
    "        lhs[i,:] = line\n",
    "\n",
    "    shmod  = np.linalg.lstsq(lhs, rhs.reshape(len(lsdata),1), rcond=None)\n",
    "    return(shmod)\n",
    "\n",
    "\n",
    "# Now use the model to synthesise values on a 5 degree grid in latitude and longitude\n",
    "def sh_synthesis(shcofs, nmax):\n",
    "    newdata =np.zeros(72*36*3).reshape(2592,3)\n",
    "    ic = 0\n",
    "    for ilat in range(36):\n",
    "        delta = 5*ilat+2.5\n",
    "        lat = 90 - delta\n",
    "        for iclt in range(72):\n",
    "            corr  = 5*iclt+2.5\n",
    "            long  = -180+corr\n",
    "            colat = 90-lat\n",
    "            cmphi, smphi = sha.csmphi(nmax,long)\n",
    "            vals  = np.dot(sha.gh_phi(shcofs, nmax, cmphi, smphi), sha.pnm_calc(nmax, colat))\n",
    "            newdata[ic,0]=long\n",
    "            newdata[ic,1]=lat\n",
    "            newdata[ic,2]=vals\n",
    "            ic += 1\n",
    "    return(newdata)"
   ]
  },
  {
   "cell_type": "code",
   "execution_count": null,
   "metadata": {},
   "outputs": [],
   "source": [
    "# Obtain the spherical harmonic coefficients\n",
    "shmod = sh_analysis(lsdata=lsdata, nmax=nmax)\n",
    "\n",
    "# Read the model coefficients\n",
    "shcofs = shmod[0]\n",
    "\n",
    "# Synthesise the model coefficients on a 5 degree grid\n",
    "newdata = sh_synthesis(shcofs=shcofs, nmax=nmax)\n",
    "# Reshape for plotting purposes\n",
    "x = newdata[:,0].reshape(36, 72)\n",
    "y = newdata[:,1].reshape(36,72)\n",
    "z = newdata[:,2].reshape(36,72)\n",
    "\n",
    "# Plot the results\n",
    "plt.rcParams['figure.figsize'] = [15, 8]\n",
    "levels = [-1.5, -0.75, 0, 0.25, 0.5, 0.75, 2.]\n",
    "plt.contourf(x,y,z)\n",
    "plt.colorbar()\n",
    "plt.show()"
   ]
  },
  {
   "cell_type": "markdown",
   "metadata": {},
   "source": [
    "# 2. Spherical harmonic models with data gaps"
   ]
  },
  {
   "cell_type": "markdown",
   "metadata": {},
   "source": [
    "What happens if the data set is incomplete? In this section, you can experiment by removing data within a great circle of a specified radius and position. The functions below are used to create the data gap, and the modelling uses functions in the above section again."
   ]
  },
  {
   "cell_type": "code",
   "execution_count": null,
   "metadata": {},
   "outputs": [],
   "source": [
    "def greatcircle(th1, ph1, th2, ph2):\n",
    "    th1 = np.deg2rad(th1)\n",
    "    th2 = np.deg2rad(th2)\n",
    "    dph = np.deg2rad(dlong(ph1,ph2))\n",
    "\n",
    "  # Apply the cosine rule of spherical trigonometry\n",
    "    dth = np.arccos(np.cos(th1)*np.cos(th2) + \\\n",
    "              np.sin(th1)*np.sin(th2)*np.cos(dph))\n",
    "    return(dth)\n",
    "\n",
    "def dlong (ph1, ph2):\n",
    "    ph1 = np.sign(ph1)*abs(ph1)%360   # These lines return a number in the \n",
    "    ph2 = np.sign(ph2)*abs(ph2)%360   # range -360 to 360\n",
    "    if(ph1 < 0): ph1 = ph1 + 360      # Put the results in the range 0-360\n",
    "    if(ph2 < 0): ph2 = ph2 + 360\n",
    "    dph = max(ph1,ph2) - min(ph1,ph2) # So the answer is positive and in the\n",
    "                                      # range 0-360\n",
    "    if(dph > 180): dph = 360-dph      # So the 'short route' is returned\n",
    "    return(dph)\n",
    "\n",
    "def gh_phi(gh, nmax, cp, sp):\n",
    "    rx = np.zeros(nmax*(nmax+3)//2+1)\n",
    "    igx=-1\n",
    "    igh=-1\n",
    "    for i in range(nmax+1):\n",
    "        igx += 1\n",
    "        igh += 1\n",
    "        rx[igx]= gh[igh]\n",
    "        for j in range(1,i+1):\n",
    "            igh += 2\n",
    "            igx += 1\n",
    "            rx[igx] = (gh[igh-1]*cp[j] + gh[igh]*sp[j])\n",
    "    return(rx)"
   ]
  },
  {
   "cell_type": "markdown",
   "metadata": {},
   "source": [
    "### >> USER INPUT HERE: Set the location and size of the data gap\n",
    "\n",
    "Colatitude: degrees\n",
    "\n",
    "Longitude: degrees\n",
    "\n",
    "Radius: km"
   ]
  },
  {
   "cell_type": "code",
   "execution_count": null,
   "metadata": {},
   "outputs": [],
   "source": [
    "# Remove a section of data centered on colat0, long0 and radius here\n",
    "colat0 = 100\n",
    "long0  = -55\n",
    "radius  = 5000"
   ]
  },
  {
   "cell_type": "code",
   "execution_count": null,
   "metadata": {},
   "outputs": [],
   "source": [
    "lsdata_gap = lsdata.copy()\n",
    "for row in range(len(lsdata_gap)):\n",
    "    colat = 90 - lsdata_gap[row,1]\n",
    "    long  = lsdata_gap[row,0]\n",
    "    if greatcircle(colat, long, colat0, long0) < radius/6371.2:\n",
    "        lsdata_gap[row,2] = np.nan\n",
    "\n",
    "print('Blanked out: ', np.count_nonzero(np.isnan(lsdata_gap)))\n",
    "\n",
    "x_gap = lsdata_gap[:,0].reshape(36, 72)\n",
    "y_gap = lsdata_gap[:,1].reshape(36,72)\n",
    "z_gap = lsdata_gap[:,2].reshape(36,72)\n",
    "\n",
    "# Plot the map with omitted data\n",
    "plt.contourf(x_gap, y_gap, z_gap)"
   ]
  },
  {
   "cell_type": "markdown",
   "metadata": {},
   "source": [
    "### >> USER INPUT HERE: Set the maximum spherical harmonic degree of the analysis"
   ]
  },
  {
   "cell_type": "code",
   "execution_count": null,
   "metadata": {},
   "outputs": [],
   "source": [
    "nmax = 13 #Max degree"
   ]
  },
  {
   "cell_type": "code",
   "execution_count": null,
   "metadata": {
    "scrolled": true
   },
   "outputs": [],
   "source": [
    "# Select the non-nan data\n",
    "lsdata_gap = lsdata_gap[~np.isnan(lsdata_gap[:,2])]\n",
    "\n",
    "# Obtain the spherical harmonic coefficients for the incomplete data set\n",
    "shmod = sh_analysis(lsdata=lsdata_gap, nmax=nmax)\n",
    "\n",
    "# Read the model coefficients\n",
    "shcofs = shmod[0]\n",
    "\n",
    "# Synthesise the model coefficients on a 5 degree grid\n",
    "newdata = sh_synthesis(shcofs=shcofs, nmax=nmax)\n",
    "# Reshape for plotting purposes\n",
    "x_new = newdata[:,0].reshape(36, 72)\n",
    "y_new = newdata[:,1].reshape(36,72)\n",
    "z_new = newdata[:,2].reshape(36,72)"
   ]
  },
  {
   "cell_type": "markdown",
   "metadata": {},
   "source": [
    "Print the maximum and minimum of the synthesised data. How do they compare to the original data, which was composed of only ones and zeroes? How do the max/min change as you vary the data gap size and the analysis resolution? Try this with a large gap, e.g. 5000 km."
   ]
  },
  {
   "cell_type": "code",
   "execution_count": null,
   "metadata": {
    "scrolled": true
   },
   "outputs": [],
   "source": [
    "print(np.min(z_new))\n",
    "print(np.max(z_new))"
   ]
  },
  {
   "cell_type": "code",
   "execution_count": null,
   "metadata": {},
   "outputs": [],
   "source": [
    "# Plot the results with colour scale according to the data\n",
    "plt.rcParams['figure.figsize'] = [15, 8]\n",
    "plt.contourf(x_new, y_new, z_new)\n",
    "plt.colorbar()\n",
    "plt.show()"
   ]
  },
  {
   "cell_type": "markdown",
   "metadata": {},
   "source": [
    "Now see what happens when we restrict the colour scale to values between 0 and 1 regardless of the data values (so that both ends of the colour scale are saturated)."
   ]
  },
  {
   "cell_type": "code",
   "execution_count": null,
   "metadata": {},
   "outputs": [],
   "source": [
    "# Plot the results\n",
    "plt.rcParams['figure.figsize'] = [15, 8]\n",
    "levels = [0, 0.25, 0.5, 0.75, 1.]\n",
    "plt.contourf(x_new, y_new, z_new, levels, extend='both')\n",
    "plt.colorbar()\n",
    "plt.show()"
   ]
  },
  {
   "cell_type": "markdown",
   "metadata": {},
   "source": [
    "### Final questions\n",
    "1. What do the reconstructions of the land and sea tell us about the use of spherical harmonics? Why do we still use them?\n",
    "2. How much can we trust the smaller scale features of the IGRF or any other main field model? \n",
    "3. How do you think bad data affect the magnitude of the field values we recover at the core-mantle boundary?"
   ]
  },
  {
   "cell_type": "markdown",
   "metadata": {},
   "source": [
    "### Acknowledgements\n",
    "\n",
    "The land/sea data file was provided by John Stevenson (BGS).\n"
   ]
  }
 ],
 "metadata": {
  "kernelspec": {
   "display_name": "Python 3",
   "language": "python",
   "name": "python3"
  },
  "language_info": {
   "codemirror_mode": {
    "name": "ipython",
    "version": 3
   },
   "file_extension": ".py",
   "mimetype": "text/x-python",
   "name": "python",
   "nbconvert_exporter": "python",
   "pygments_lexer": "ipython3",
   "version": "3.7.4"
  }
 },
 "nbformat": 4,
 "nbformat_minor": 2
}
