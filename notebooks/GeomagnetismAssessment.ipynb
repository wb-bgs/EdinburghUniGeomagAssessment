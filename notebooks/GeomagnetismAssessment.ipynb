{
 "cells": [
  {
   "cell_type": "markdown",
   "metadata": {},
   "source": [
    "<h1><center>University of Edinburgh</center></h1>\n",
    "<h1><center>Geomagnetism (EASC10036)</center></h1>\n",
    "<h1><center>Magnetic Field Mapping: From Measurements to Models</center></h1>"
   ]
  },
  {
   "cell_type": "markdown",
   "metadata": {},
   "source": [
    "# (0.) Notebook setup"
   ]
  },
  {
   "cell_type": "code",
   "execution_count": null,
   "metadata": {},
   "outputs": [],
   "source": [
    "# Cell 1\n",
    "# Import notebook dependencies, run these command first to set up the notebook\n",
    "\n",
    "import os\n",
    "import sys\n",
    "import numpy as np\n",
    "import pandas as pd\n",
    "import matplotlib.pyplot as plt\n",
    "%matplotlib inline \n",
    "\n",
    "sys.path.append('..')\n",
    "from src import sha_lib as sha, mag_lib as mag\n",
    "\n",
    "# Load coastline file\n",
    "COAST_FILE = os.path.abspath('../external/coast.dat')\n",
    "coast = pd.read_csv(COAST_FILE, delim_whitespace=True, header=None)"
   ]
  },
  {
   "cell_type": "markdown",
   "metadata": {},
   "source": [
    "# (1.) Modelling observations of the field\n",
    "\n",
    "The magnetic field is measured in various ways - to produce modern global field models we typically use a combination of satellite and ground observatory measurements. In each case we make vector measurements to fully describe the field.\n",
    "\n",
    "We use these measurements to construct magnetic field models, which provide a tool to allow us to estimate values of the field at any time and location encompassed by our model.\n",
    "\n",
    "We typically build global field models using spherical harmonic representations of a scalar potential field.\n",
    "\n",
    "The scalar potential of the geomagnetic field can be written as follows:\n",
    "\n",
    "$$\\begin{align}\n",
    "\\Omega(\\theta,\\phi,r) = \\frac{a}{\\mu_0} \\sum_{n=1}^{\\inf} \\left[ \\sum_{m=1}^n \\left(\\frac{a}{r}\\right)^{n+1} \\left( g_n^m\\cos(m\\phi) + h_n^m\\sin(m\\phi) \\right) \\\\\n",
    "+ \\left( \\frac{r}{a}\\right)^n \\left( q_n^m\\cos(m\\phi) + s_n^m\\sin(m\\phi) \\right) \\right] P_n^m(\\cos(\\theta))\n",
    "\\end{align}$$"
   ]
  },
  {
   "cell_type": "markdown",
   "metadata": {},
   "source": [
    "# (2.) Plotting associated Legendre polynomials $P_n^m$\n",
    "The $P_n^m(\\theta)$ are building blocks for computing geomagnetic field models given a spherical harmonic model. It's instructive to visualise these functions and below you can experiment by setting different values of spherical harmonic degree ($n$) and order ($m \\le n$). Note how the choice of $n$ and $m$ affects the number of zeroes of the functions. \n",
    "\n",
    "The functions are plotted on a semi-circle representing the surface of the Earth, with the core added for cosmetic purposes only! Again, purely for cosmetic purposes, the functions are scaled to fit within $\\pm$20% of the Earth's surface.\n",
    "\n",
    "### >> Exercise 1: USER INPUT HERE: Set the spherical harmonic degree and order for the plot\n",
    "\n",
    "### 1D Associated Legrendre Polynomials\n",
    "\n",
    "Modify the degree and order to examine the variation of the Associated Legrendre Polynomials ($P_n^m$) along a 1D meridional slice of the Earth (the core in grey is shown for visualisation). Try value such as degree $n=13$, order $m=0$ and others."
   ]
  },
  {
   "cell_type": "code",
   "execution_count": null,
   "metadata": {},
   "outputs": [],
   "source": [
    "# Cell 2\n",
    "degree = 5\n",
    "order  = 3"
   ]
  },
  {
   "cell_type": "code",
   "execution_count": null,
   "metadata": {},
   "outputs": [],
   "source": [
    "# Cell 3\n",
    "# Calculate Pnm and Xmn values every 0.5 degrees\n",
    "colat   = np.linspace(0,180,361)\n",
    "pnmvals = np.zeros(len(colat))\n",
    "xnmvals = np.zeros(len(colat))\n",
    "\n",
    "idx     = sha.pnmindex(degree,order)\n",
    "for i, cl in enumerate(colat):\n",
    "    p,x = sha.pxyznm_calc(degree, cl)[0:2]\n",
    "    pnmvals[i] = p[idx]\n",
    "    xnmvals[i] = x[idx]\n",
    "    \n",
    "theta   = np.deg2rad(colat)\n",
    "ct      = np.cos(theta)\n",
    "st      = np.sin(theta)\n",
    "\n",
    "# Numbers mimicking the Earth's surface and outer core radii\n",
    "e_rad   = 6.371\n",
    "c_rad   = 3.485\n",
    "\n",
    "# Scale values to fit within 10% of \"Earth's surface\". Firstly the P(n,m),\n",
    "shell   = 0.2*e_rad\n",
    "pmax    = np.abs(pnmvals).max()\n",
    "pnmvals = pnmvals*shell/pmax + e_rad\n",
    "xp      = pnmvals*st\n",
    "yp      = pnmvals*ct\n",
    "\n",
    "\n",
    "# Values to draw the Earth's and outer core surfaces as semi-circles\n",
    "e_xvals = e_rad*st\n",
    "e_yvals = e_rad*ct\n",
    "c_xvals = e_xvals*c_rad/e_rad\n",
    "c_yvals = e_yvals*c_rad/e_rad\n",
    "\n",
    "# Earth-like background framework for plots\n",
    "def eplot(ax):\n",
    "    ax.set_aspect('equal')\n",
    "    ax.set_axis_off()\n",
    "    ax.plot(e_xvals,e_yvals, color='blue')\n",
    "    ax.plot(c_xvals,c_yvals, color='black')\n",
    "    ax.fill_between(c_xvals, c_yvals, y2=0, color='lightgrey')\n",
    "    ax.plot((0, 0), (-e_rad, e_rad), color='black')\n",
    "\n",
    "# Plot the P(n,m) \n",
    "fig, axes = plt.subplots(figsize=(18, 8))\n",
    "#fig.suptitle('Degree (n) = '+str(degree)+', order (m) = '+str(order), fontsize=20)\n",
    "                    \n",
    "axes.plot(xp,yp, color='red')\n",
    "axes.set_title('P('+ str(degree)+',' + str(order)+')', color='red', fontsize=16)\n",
    "eplot(axes)\n"
   ]
  },
  {
   "cell_type": "markdown",
   "metadata": {},
   "source": [
    "# (3.) Plotting 2D representations of the $P_n^m$\n",
    "\n",
    "## Calculating geomagnetic field values \n",
    "The function below calculates geomagnetic field values at a point defined by its colatitude, longitude and altitude, using a spherical harmonic model of maximum degree *nmax* supplied as an array of Gauss coefficients *gh*. The parameter _coord_ is a string specifying whether the input position is in geocentric coordinates (when *altitude* should be the geocentric radial distance (*r*) in km) or geodetic coordinates (when altitude is distance above mean sea level in km). \n",
    "\n",
    "Though it's unconventional, we've chosen to include a monopole term, set to zero, at index zero in the *gh* array."
   ]
  },
  {
   "cell_type": "code",
   "execution_count": null,
   "metadata": {},
   "outputs": [],
   "source": [
    "# Cell 4\n",
    "def shm_calculator(gh, nmax, altitude, colat, long, coord):\n",
    "    RREF     = 6371.2 #The reference radius assumed by the IGRF\n",
    "    degree   = nmax\n",
    "    phi      = long\n",
    "\n",
    "    if (coord == 'Geodetic'):\n",
    "        # Geodetic to geocentric conversion using the WGS84 spheroid\n",
    "        rad, theta, sd, cd = sha.gd2gc(altitude, colat)\n",
    "    else:\n",
    "        rad   = altitude\n",
    "        theta = colat\n",
    "\n",
    "    # Function 'rad_powers' to create an array with values of (a/r)^(n+2) for n = 0,1, 2 ..., degree\n",
    "    rpow = sha.rad_powers(degree, RREF, rad)\n",
    "\n",
    "    # Function 'csmphi' to create arrays with cos(m*phi), sin(m*phi) for m = 0, 1, 2 ..., degree\n",
    "    cmphi, smphi = sha.csmphi(degree,phi)\n",
    "\n",
    "    # Function 'gh_phi_rad' to create arrays with terms such as [g(3,2)*cos(2*phi) + h(3,2)*sin(2*phi)]*(a/r)**5 \n",
    "    ghxz, ghy = sha.gh_phi_rad(gh, degree, cmphi, smphi, rpow)\n",
    "\n",
    "    # Function 'pnm_calc' to calculate arrays of the Associated Legendre Polynomials for n (&m) = 0,1, 2 ..., degree\n",
    "    pnm, xnm, ynm, znm = sha.pxyznm_calc(degree, theta)\n",
    "\n",
    "    # Geomagnetic field components are calculated as a dot product\n",
    "    X =  np.dot(ghxz, xnm)\n",
    "    Y =  np.dot(ghy,  ynm)\n",
    "    Z =  np.dot(ghxz, znm)\n",
    "\n",
    "    # Convert back to geodetic (X, Y, Z) if required\n",
    "    if (coord == 'Geodetic'):\n",
    "        t = X\n",
    "        X = X*cd + Z*sd\n",
    "        Z = Z*cd - t*sd\n",
    "\n",
    "    return((X, Y, Z))"
   ]
  },
  {
   "cell_type": "markdown",
   "metadata": {},
   "source": [
    "The function below produces a simple map plot when given a grid of field values and the name of the field component."
   ]
  },
  {
   "cell_type": "code",
   "execution_count": null,
   "metadata": {},
   "outputs": [],
   "source": [
    "# Cell 5\n",
    "def field_plotter(el_name, vals):\n",
    "    # Function to plot map of field values\n",
    "    if el_name=='D':\n",
    "        cvals = np.arange(-25,30,5)  # If using 'D', limit the contours to -25 to +30 degrees\n",
    "    else:\n",
    "        cvals = 15  # Use 15 intervals\n",
    "    fig, ax = plt.subplots(figsize=(16, 8))\n",
    "    cplt = ax.contourf(longs, lats, vals, levels=cvals)\n",
    "    cbar = fig.colorbar(cplt)\n",
    "    ax.set_xlabel('Longitude', fontsize=16)\n",
    "    ax.set_ylabel('Latitude', fontsize=16)\n",
    "    ax.set_title('Degree 1 only', fontsize=16)\n",
    "    if el_name=='D' or el_name=='I':\n",
    "        cbar.set_label(str(el_name) + ' (degrees)', rotation=270, fontsize=14)\n",
    "    else:\n",
    "        cbar.set_label(str(el_name) + ' (nT)', rotation=270, fontsize=14)"
   ]
  },
  {
   "cell_type": "markdown",
   "metadata": {},
   "source": [
    "### Summing together Associated Legrendre Polynomials and spherical harmonics\n",
    "\n",
    "By summing together the Associated Legendre Polynomial basis functions (functions of colatitude) with the spherical harmonic basis terms (functions of longitude) that are weighted by the Gauss coefficients, we can represent arbitrarily complex spatial patterns of the magnetic field. Recall that the spatial complexity depends on the degree and order. In this exercise, change the values of the numbers in the *ghp* variable to plot out 2D maps of the field.\n",
    "We will use the two functions defined above to calculate field values over a grid of locations, and then plot the result.\n",
    "\n",
    "### >> Exercise 2: USER INPUT HERE: Set the input parameters\n",
    "\n",
    "Enter the geomagnetic element to plot below as *el2plot*:\n",
    " - 'D' = declination\n",
    " - 'H' = horizontal intensity\n",
    " - 'I' = inclination\n",
    " - 'X' = north component\n",
    " - 'Y' = east component\n",
    " - 'Z' = vertically (downwards) component\n",
    " - 'F' = total intensity\n",
    "\n",
    "Insert some values for the first three Gauss coefficients in the variable *ghp*.\n",
    "\n",
    "- Try [1, 0, 0] - boring!\n",
    "- Try [1,1,1] - interesting.\n",
    "- Look the different components (e.g. 'D', 'Z', 'F', 'I')\n",
    "\n",
    "Try out variations of other components and varying the *ghp* values for each coefficient."
   ]
  },
  {
   "cell_type": "code",
   "execution_count": null,
   "metadata": {},
   "outputs": [],
   "source": [
    "# Cell 6\n",
    "ghp = np.empty([3,1]) # Set up an empty array and fill it with the values for the first three Gauss coefficients\n",
    "ghp[0] = 1  # in nT\n",
    "ghp[1] = 1\n",
    "ghp[2] = 0\n",
    "el2plot = 'Z'  # element to plot e.g, 'F', 'X', 'Y', Z', 'D', 'H', 'I'"
   ]
  },
  {
   "cell_type": "code",
   "execution_count": null,
   "metadata": {},
   "outputs": [],
   "source": [
    "# Cell 7\n",
    "# Make a regular grid of latitude, longitude points to calculate the field at\n",
    "nlats = 40\n",
    "nlons = 91\n",
    "degree = 1\n",
    "longs  = np.linspace(-180, 180, nlons)\n",
    "lats   = np.linspace(-80, 80, nlats)\n",
    "ghp = np.append(0., ghp)\n",
    "Bx, By, Bz = zip(*[sha.shm_calculator(ghp,degree,6371.2,90-lat,lon,'Geocentric') \\\n",
    "                 for lat in lats for lon in longs])\n",
    "X = np.asarray(Bx).reshape(nlats,nlons)\n",
    "Y = np.asarray(By).reshape(nlats,nlons)\n",
    "Z = np.asarray(Bz).reshape(nlats,nlons)\n",
    "D, H, I, F = [mag.xyz2dhif(X, Y, Z)[el] for el in range(4)]\n",
    "\n",
    "# Plot the desired field component map\n",
    "el_dict={'X':X, 'Y':Y, 'Z':Z, 'D':D, 'H':H, 'I':I, 'F':F}\n",
    "field_plotter(el2plot, el_dict[el2plot])"
   ]
  },
  {
   "cell_type": "markdown",
   "metadata": {},
   "source": [
    "# (4.) The International Geomagnetic Reference Field\n",
    "The latest version of the IGRF is IGRF13 which consists of a main-field model every five years from 1900.0 to 2020.0 and a secular variation model for 2020-2025. The main field models have spherical harmonic degree (n) and order (m) 10 up to 1995 and n=m=13 from 2000 onwards. The secular variation model has n=m=8.\n",
    "\n",
    "The coefficients are first loaded into a pandas (pd) dataframe: "
   ]
  },
  {
   "cell_type": "code",
   "execution_count": null,
   "metadata": {},
   "outputs": [],
   "source": [
    "# Cell 8\n",
    "IGRF13_FILE = os.path.abspath('../external/IGRF13coeffs.txt')\n",
    "igrf13 = pd.read_csv(IGRF13_FILE, delim_whitespace=True,  header=3)\n",
    "igrf13.head(10)  # Check the values have loaded correctly"
   ]
  },
  {
   "cell_type": "markdown",
   "metadata": {},
   "source": [
    "At any time between the 5-year epochs at which Gauss coefficients are given in the file, values for the coefficients can be interpolated linearly - that is, assuming a constant secular variation (SV) over each 5-year peiod.\n",
    "\n",
    "If you look at the final column for \"2020-25\", you will see SV values given for 2020.0 and beyond, again assuming constant SV indefinitely until a new IGRF model is produced next, in 2025."
   ]
  },
  {
   "cell_type": "markdown",
   "metadata": {},
   "source": [
    "### >>  >> USER INPUT HERE: Set the input parameters\n",
    "### Exercise 3: Compute IGRF magnetic field values for a single location\n",
    "\n",
    "Try entering different locations and times below to produce values given by the IGRF.\n",
    "\n",
    "Look at how the field changes through time at the same place, and how it differs from location to location.\n",
    "\n",
    "You can also try varying the radius (*altitude*) and spherical harmonic degree."
   ]
  },
  {
   "cell_type": "code",
   "execution_count": null,
   "metadata": {},
   "outputs": [],
   "source": [
    "# Cell 9\n",
    "location = 'Place name' # Label the output\n",
    "ctype    = 'Geocentric' # coordinate type\n",
    "altitude = 6731.2       # in km above the spheroid if ctype = 'Geodetic', radial distance if ctype = 'Geocentric'\n",
    "colat    = 42           # NB colatitude, not latitude\n",
    "long     = 42           # longitude\n",
    "date     = 2021.0       # Date for the field estimates\n",
    "NMAX     = 8           # Maximum spherical harmonic degree of the model; Change this from 1 to 13 for the full IGRF model"
   ]
  },
  {
   "cell_type": "markdown",
   "metadata": {},
   "source": [
    "Now calculate the IGRF geomagnetic field estimates and print them below the code cell."
   ]
  },
  {
   "cell_type": "code",
   "execution_count": null,
   "metadata": {},
   "outputs": [],
   "source": [
    "# Cell 10\n",
    "# Calculate the gh coefficient values for the supplied date\n",
    "if date == 2020.0:\n",
    "    gh = igrf13['2020.0']\n",
    "elif date < 2020.0:\n",
    "    date_1 = (date//5)*5\n",
    "    date_2 = date_1 + 5\n",
    "    w1 = date-date_1\n",
    "    w2 = date_2-date\n",
    "    gh = np.array((w2*igrf13[str(date_1)] + w1*igrf13[str(date_2)])/(w1+w2))\n",
    "elif date > 2020.0:\n",
    "    gh =np.array(igrf13['2020.0'] + (date-2020.0)*igrf13['2020-25'])\n",
    "\n",
    "gh = np.append(0., gh) # Add a zero monopole term corresponding to g(0,0)\n",
    "\n",
    "bxyz = shm_calculator(gh, NMAX, altitude, colat, long, ctype)\n",
    "dec, hoz ,inc , eff = mag.xyz2dhif(bxyz[0], bxyz[1], bxyz[2])\n",
    "\n",
    "# Print out the results\n",
    "print('\\nGeomagnetic field values at: ', location+', '+ str(date), '\\n')\n",
    "print('Declination (D):', '{: .2f}'.format(dec), 'degrees')\n",
    "print('Inclination (I):', '{: .2f}'.format(inc), 'degrees')\n",
    "print('Horizontal intensity (H):', '{: .1f}'.format(hoz), 'nT')\n",
    "print('Total intensity (F)     :', '{: .1f}'.format(eff), 'nT')\n",
    "print('North component (X)     :', '{: .1f}'.format(bxyz[0]), 'nT')\n",
    "print('East component (Y)      :', '{: .1f}'.format(bxyz[1]), 'nT')\n",
    "print('Vertical component (Z)  :', '{: .1f}'.format(bxyz[2]), 'nT')"
   ]
  },
  {
   "cell_type": "markdown",
   "metadata": {},
   "source": [
    "# (5.) Maps of the IGRF\n",
    "Now draw maps of the IGRF at the date selected above. The latitude range is set at -80 degrees to +80 degrees and the longitude range -180 degrees to +180 degrees and IGRF values for (X, Y, Z) are calculated on a 5 degree grid (this may take a few seconds to complete).\n",
    "\n",
    "The next two cells set up some functions we'll need, first to return the Gauss coefficients for a specified date, and second to plot a map of the field given a field component name, field values, and a date to label the map."
   ]
  },
  {
   "cell_type": "code",
   "execution_count": null,
   "metadata": {},
   "outputs": [],
   "source": [
    "# Cell 11\n",
    "def IGRF_gh(date):\n",
    "    # Calculate the gh coefficient values for the supplied date\n",
    "    if date == 2020.0:\n",
    "        gh = igrf13['2020.0']\n",
    "    elif date < 2020.0:\n",
    "        date_1 = (date//5)*5\n",
    "        date_2 = date_1 + 5\n",
    "        w1 = date-date_1\n",
    "        w2 = date_2-date\n",
    "        gh = np.array((w2*igrf13[str(date_1)] + w1*igrf13[str(date_2)])/(w1+w2))\n",
    "    elif date > 2020.0:\n",
    "        gh =np.array(igrf13['2020.0'] + (date-2020.0)*igrf13['2020-25'])\n",
    "    \n",
    "    gh = np.append(0., gh) # Add a zero monopole term corresponding to g(0,0)\n",
    "    return gh"
   ]
  },
  {
   "cell_type": "code",
   "execution_count": null,
   "metadata": {},
   "outputs": [],
   "source": [
    "# Cell 12\n",
    "def IGRF_plotter(el_name, vals, date):\n",
    "    # A function to plot a field component map for the IGRF\n",
    "    if el_name=='D':\n",
    "        cvals = np.arange(-30,30,2)\n",
    "    else:\n",
    "        cvals = 30\n",
    "    fig, ax = plt.subplots(figsize=(16, 8))\n",
    "    cplt = ax.contourf(longs, lats, vals, levels=cvals, cmap = 'seismic')\n",
    "    clev = ax.contour(longs, lats, vals, levels=cvals)\n",
    "    ax.clabel(clev, clev.levels[0::5], inline=True, fmt='%d', fontsize=10)\n",
    "    fig.colorbar(cplt)\n",
    "    ax.set_title('IGRF: '+ el_name + ' (' + str(date) + ')', fontsize=20)\n",
    "    ax.set_xlabel('Longitude', fontsize=16)\n",
    "    ax.set_ylabel('Latitude', fontsize=16)\n",
    "    \n",
    "    # Add coastlines\n",
    "    plt.plot(coast[1],coast[0], 'k')\n",
    "    ax.set_xlim([-180, 180])\n",
    "    ax.set_ylim([-80, 80])"
   ]
  },
  {
   "cell_type": "markdown",
   "metadata": {},
   "source": [
    "### >>  >> USER INPUT HERE:  Set the element, date and degree to plot\n",
    "### Exercise 4: Plot maps of IGRF magnetic field values\n",
    "You can vary the input parameters below to show the IGRF at any point from 1900 to 2020, and estimate how the field might look up to 2025 and beyond.\n",
    "\n",
    "Try looking at maps of the Z component to degree $n=13$ over the course of the previous century, see how the main features of the field change over that time.\n",
    "\n",
    "Try looking at the Earth's surface, and at the core-mantle boundary."
   ]
  },
  {
   "cell_type": "code",
   "execution_count": null,
   "metadata": {},
   "outputs": [],
   "source": [
    "# Cell 13\n",
    "ctype    = 'Geocentric'  # coordinate type\n",
    "altitude = 6371.2          # in km above the spheroid if ctype = 'Geodetic', radial distance if ctype = 'Geocentric'\n",
    "date     = 2021.0      # Date for the field estimates\n",
    "NMAX     = 10          # Maximum spherical harmonic degree of the model; \n",
    "el2plot = 'X'"
   ]
  },
  {
   "cell_type": "code",
   "execution_count": null,
   "metadata": {},
   "outputs": [],
   "source": [
    "# Cell 14\n",
    "# Set up a latitude, longitude grid, and calculate the field at each grid point\n",
    "nlats = 40\n",
    "nlons = 91\n",
    "longs  = np.linspace(-180, 180, nlons)\n",
    "lats   = np.linspace(-80, 80, nlats)\n",
    "# Get the Gauss coefficients for our chosen date\n",
    "gh = IGRF_gh(date)\n",
    "# Calculate X, Y, Z field values at each grid point\n",
    "Bx, By, Bz = zip(*[sha.shm_calculator(gh,NMAX,altitude,90-lat,lon,ctype) \\\n",
    "                 for lat in lats for lon in longs])\n",
    "X = np.asarray(Bx).reshape(nlats,nlons)\n",
    "Y = np.asarray(By).reshape(nlats,nlons)\n",
    "Z = np.asarray(Bz).reshape(nlats,nlons)\n",
    "# Get all the field components\n",
    "D, H, I, F = [mag.xyz2dhif(X, Y, Z)[el] for el in range(4)]\n",
    "\n",
    "# Plot the chosen field component map\n",
    "el_dict={'X':X, 'Y':Y, 'Z':Z, 'D':D, 'H':H, 'I':I, 'F':F}\n",
    "IGRF_plotter(el2plot, el_dict[el2plot], date)"
   ]
  },
  {
   "cell_type": "code",
   "execution_count": null,
   "metadata": {},
   "outputs": [],
   "source": []
  }
 ],
 "metadata": {
  "kernelspec": {
   "display_name": "Python 3",
   "language": "python",
   "name": "python3"
  },
  "language_info": {
   "codemirror_mode": {
    "name": "ipython",
    "version": 3
   },
   "file_extension": ".py",
   "mimetype": "text/x-python",
   "name": "python",
   "nbconvert_exporter": "python",
   "pygments_lexer": "ipython3",
   "version": "3.7.8"
  }
 },
 "nbformat": 4,
 "nbformat_minor": 2
}
