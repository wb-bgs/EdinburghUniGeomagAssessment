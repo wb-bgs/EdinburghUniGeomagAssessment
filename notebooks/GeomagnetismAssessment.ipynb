{
 "cells": [
  {
   "cell_type": "markdown",
   "metadata": {},
   "source": [
    "<h1><center>University of Edinburgh</center></h1>\n",
    "<h1><center>Geomagnetism (EASC10036)</center></h1>\n",
    "<h1><center>Magnetic Field Mapping: From Measurements to Models</center></h1>"
   ]
  },
  {
   "cell_type": "markdown",
   "metadata": {},
   "source": [
    "# (1.) Observations of the field"
   ]
  },
  {
   "cell_type": "markdown",
   "metadata": {},
   "source": [
    "The magnetic field is measured in various ways - to produce modern global field models we typically use a combination of satellite and ground observatory measurements. In each case we make vector measurements to fully describe the field."
   ]
  },
  {
   "cell_type": "markdown",
   "metadata": {},
   "source": [
    "## Question 1\n",
    "\n",
    "The observatory at Tristan da Cuhna is located in the South Atlantic, approximately midway between Africa and South America. The following field observations were made at the observatory:\n",
    "\n",
    "| Component | Value |\n",
    "| :- | -: |\n",
    "| Horizontal intensity (H) | 10,301 nT |\n",
    "| Declination angle (D) | -22.7&deg; |\n",
    "| Inclination angle (I) | -64.4&deg; |\n",
    "\n",
    "Sketch the relationship between these components in their orientation at Tristan Da Cuhna, and the remaining four standard field components. The remaining components are vertical intensity (Z), total intensity (F), North intensity (X), and East intensity (Y).\n",
    "\n",
    "Calculate the total intensity of the field at Tristan da Cuhna, and comment on why this value is unusual.\n",
    "\n",
    "**[6%]**"
   ]
  },
  {
   "cell_type": "code",
   "execution_count": null,
   "metadata": {},
   "outputs": [],
   "source": [
    "### Import notebook dependencies, run these command first to set up the notebook\n",
    "\n",
    "import os\n",
    "import sys\n",
    "import numpy as np\n",
    "import pandas as pd\n",
    "import matplotlib.pyplot as plt\n",
    "%matplotlib inline \n",
    "\n",
    "sys.path.append('..')\n",
    "from src import sha_lib as sha, mag_lib as mag"
   ]
  },
  {
   "cell_type": "markdown",
   "metadata": {},
   "source": [
    "# (2.) Plotting associated Legendre polynomials $P_n^m$\n",
    "The $P_n^m(\\theta)$ are building blocks for computing geomagnetic field models given a spherical harmonic model. It's instructive to visualise these functions and below you can experiment by setting different values of spherical harmonic degree ($n$) and order ($m \\le n$). Note how the choice of $n$ and $m$ affects the number of zeroes of the functions. \n",
    "\n",
    "The functions are plotted on a semi-circle representing the surface of the Earth, with the inner core added for cosmetic purposes only! Again, purely for cosmetic purposes, the functions are scaled to fit within $\\pm$20% of the Earth's surface."
   ]
  },
  {
   "cell_type": "markdown",
   "metadata": {},
   "source": [
    "### >> Exercise 1: USER INPUT HERE: Set the spherical harmonic degree and order for the plot\n",
    "\n",
    "### 1D Associated Legrendre Polynomials\n",
    "\n",
    "Modify the degree and order to examine the variation of the Associated Legrendre Polynomials ($P_n^m$) along a 1D meridional slice of the Earth (the core in grey is shown for visualisation). Try value such as degree $n=13$, order $m=0$ and others."
   ]
  },
  {
   "cell_type": "code",
   "execution_count": null,
   "metadata": {},
   "outputs": [],
   "source": [
    "degree = 5\n",
    "order  = 3"
   ]
  },
  {
   "cell_type": "code",
   "execution_count": null,
   "metadata": {},
   "outputs": [],
   "source": [
    "# Calculate Pnm and Xmn values every 0.5 degrees\n",
    "colat   = np.linspace(0,180,361)\n",
    "pnmvals = np.zeros(len(colat))\n",
    "xnmvals = np.zeros(len(colat))\n",
    "\n",
    "idx     = sha.pnmindex(degree,order)\n",
    "for i, cl in enumerate(colat):\n",
    "    p,x = sha.pxyznm_calc(degree, cl)[0:2]\n",
    "    pnmvals[i] = p[idx]\n",
    "    xnmvals[i] = x[idx]\n",
    "    \n",
    "theta   = np.deg2rad(colat)\n",
    "ct      = np.cos(theta)\n",
    "st      = np.sin(theta)\n",
    "\n",
    "# Numbers mimicking the Earth's surface and outer core radii\n",
    "e_rad   = 6.371\n",
    "c_rad   = 3.485\n",
    "\n",
    "# Scale values to fit within 10% of \"Earth's surface\". Firstly the P(n,m),\n",
    "shell   = 0.2*e_rad\n",
    "pmax    = np.abs(pnmvals).max()\n",
    "pnmvals = pnmvals*shell/pmax + e_rad\n",
    "xp      = pnmvals*st\n",
    "yp      = pnmvals*ct\n",
    "\n",
    "\n",
    "# Values to draw the Earth's and outer core surfaces as semi-circles\n",
    "e_xvals = e_rad*st\n",
    "e_yvals = e_rad*ct\n",
    "c_xvals = e_xvals*c_rad/e_rad\n",
    "c_yvals = e_yvals*c_rad/e_rad\n",
    "\n",
    "# Earth-like background framework for plots\n",
    "def eplot(ax):\n",
    "    ax.set_aspect('equal')\n",
    "    ax.set_axis_off()\n",
    "    ax.plot(e_xvals,e_yvals, color='blue')\n",
    "    ax.plot(c_xvals,c_yvals, color='black')\n",
    "    ax.fill_between(c_xvals, c_yvals, y2=0, color='lightgrey')\n",
    "    ax.plot((0, 0), (-e_rad, e_rad), color='black')\n",
    "\n",
    "# Plot the P(n,m) \n",
    "fig, axes = plt.subplots(figsize=(18, 8))\n",
    "#fig.suptitle('Degree (n) = '+str(degree)+', order (m) = '+str(order), fontsize=20)\n",
    "                    \n",
    "axes.plot(xp,yp, color='red')\n",
    "axes.set_title('P('+ str(degree)+',' + str(order)+')', fontsize=16)\n",
    "eplot(axes)\n"
   ]
  },
  {
   "cell_type": "markdown",
   "metadata": {},
   "source": [
    "# (3.) Plotting 2D representations of the $P_n^m$\n",
    "\n"
   ]
  },
  {
   "cell_type": "markdown",
   "metadata": {},
   "source": [
    "## Calculating geomagnetic field values \n",
    "The function below calculates geomagnetic field values at a point defined by its colatitude, longitude and altitude, using a spherical harmonic model of maximum degree _nmax_ supplied as an array _gh_. The parameter _coord_ is a string specifying whether the input position is in geocentric coordinates (when _altitude_ should be the geocentric distance in km) or geodetic coordinates (when altitude is distance above mean sea level in km). \n",
    "\n",
    "Though it's unconventional, we've chosen to include a monopole term, set to zero, at index zero in the _gh_ array.<br>"
   ]
  },
  {
   "cell_type": "code",
   "execution_count": null,
   "metadata": {},
   "outputs": [],
   "source": [
    "def shm_calculator(gh, nmax, altitude, colat, long, coord):\n",
    "    RREF     = 6371.2 #The reference radius assumed by the IGRF\n",
    "    degree   = nmax\n",
    "    phi      = long\n",
    "\n",
    "    if (coord == 'Geodetic'):\n",
    "        # Geodetic to geocentric conversion using the WGS84 spheroid\n",
    "        rad, theta, sd, cd = sha.gd2gc(altitude, colat)\n",
    "    else:\n",
    "        rad   = altitude\n",
    "        theta = colat\n",
    "\n",
    "    # Function 'rad_powers' to create an array with values of (a/r)^(n+2) for n = 0,1, 2 ..., degree\n",
    "    rpow = sha.rad_powers(degree, RREF, rad)\n",
    "\n",
    "    # Function 'csmphi' to create arrays with cos(m*phi), sin(m*phi) for m = 0, 1, 2 ..., degree\n",
    "    cmphi, smphi = sha.csmphi(degree,phi)\n",
    "\n",
    "    # Function 'gh_phi_rad' to create arrays with terms such as [g(3,2)*cos(2*phi) + h(3,2)*sin(2*phi)]*(a/r)**5 \n",
    "    ghxz, ghy = sha.gh_phi_rad(gh, degree, cmphi, smphi, rpow)\n",
    "\n",
    "    # Function 'pnm_calc' to calculate arrays of the Associated Legendre Polynomials for n (&m) = 0,1, 2 ..., degree\n",
    "    pnm, xnm, ynm, znm = sha.pxyznm_calc(degree, theta)\n",
    "\n",
    "    # Geomagnetic field components are calculated as a dot product\n",
    "    X =  np.dot(ghxz, xnm)\n",
    "    Y =  np.dot(ghy,  ynm)\n",
    "    Z =  np.dot(ghxz, znm)\n",
    "\n",
    "    # Convert back to geodetic (X, Y, Z) if required\n",
    "    if (coord == 'Geodetic'):\n",
    "        t = X\n",
    "        X = X*cd + Z*sd\n",
    "        Z = Z*cd - t*sd\n",
    "\n",
    "    return((X, Y, Z))"
   ]
  },
  {
   "cell_type": "markdown",
   "metadata": {},
   "source": [
    "Enter the geomagnetic element to plot below: <br>\n",
    "D = declination <br>\n",
    "H = horizontal intensity <br>\n",
    "I = inclination <br>\n",
    "X = north component <br>\n",
    "Y = east component <br>\n",
    "Z = vertically (downwards) component <br>\n",
    "F = total intensity.\n",
    "\n",
    "Insert some values for the first three Gauss coefficients in the variable *ghp*.\n",
    "\n",
    "- Try [1, 0, 0] - boring!\n",
    "- Try [1,1,1] - interesting.\n",
    "- Look the different components (e.g. 'D', 'Z', 'F', 'I')\n",
    "\n",
    "- Can you explain why [1,0,0] with 'D' generates a blank image?\n",
    "- Try [1,0,0] with 'I' - why do the inclination and latitude contours not match? Why is the inclination angle reversed relative to the general convention seen in the real Earth (i.e. positive in the northern hemisphere)? How would you fix this? What does it imply about the Earth's magnetic field?\n"
   ]
  },
  {
   "cell_type": "markdown",
   "metadata": {},
   "source": [
    "### >> Exercise 2: USER INPUT HERE: Set the input parameters\n",
    "\n",
    "### Summing together Associated Legrendre Polynomials and spherical harmonics\n",
    "\n",
    "By summing together the Associated Legendre Polynomial basis functions (functions of colatitude) with the spherical harmonic basis terms (functions of longitude) that are weighted by the Gauss coefficients, we can represent arbitrarily complex spatial patterns of the magnetic field. Recall that the spatial complexity depends on the degree and order. In this exercise, change the values of the numbers in the _ghp_ variable to plot out 2D maps of the field.\n",
    "\n",
    "Try out variations of other components and varying the _ghp_ values for each coefficient."
   ]
  },
  {
   "cell_type": "code",
   "execution_count": null,
   "metadata": {},
   "outputs": [],
   "source": [
    "ghp = np.empty([3,1]) # Set up an empty array and fill it with the values for the first three Gauss coefficients\n",
    "ghp[0] = 1  # in nT\n",
    "ghp[1] = 1\n",
    "ghp[2] = 0\n",
    "el2plot = 'Z'  # element to plot e.g, 'F', 'Z', 'D'"
   ]
  },
  {
   "cell_type": "code",
   "execution_count": null,
   "metadata": {},
   "outputs": [],
   "source": [
    "def field_plotter(el_name, vals):\n",
    "    # Function to plot map of field values\n",
    "    if el_name=='D':\n",
    "        cvals = np.arange(-25,30,5)  # If using 'D', limit the contours to -25 to +30 degrees\n",
    "    else:\n",
    "        cvals = 15  # Use 15 intervals\n",
    "    fig, ax = plt.subplots(figsize=(16, 8))\n",
    "    cplt = ax.contourf(longs, lats, vals, levels=cvals)\n",
    "    cbar = fig.colorbar(cplt)\n",
    "    ax.set_xlabel('Longitude', fontsize=16)\n",
    "    ax.set_ylabel('Latitude', fontsize=16)\n",
    "    ax.set_title('Degree 1 only', fontsize=16)\n",
    "    if el_name=='D' or el_name=='I':\n",
    "        cbar.set_label(str(el_name) + ' (degrees)', rotation=270, fontsize=14)\n",
    "    else:\n",
    "        cbar.set_label(str(el_name) + ' (nT)', rotation=270, fontsize=14)"
   ]
  },
  {
   "cell_type": "code",
   "execution_count": null,
   "metadata": {},
   "outputs": [],
   "source": [
    "# Make a regular grid of latitude, longitude points to calculate the field at\n",
    "nlats = 40\n",
    "nlons = 91\n",
    "degree = 1\n",
    "longs  = np.linspace(-180, 180, nlons)\n",
    "lats   = np.linspace(-80, 80, nlats)\n",
    "ghp = np.append(0., ghp)\n",
    "Bx, By, Bz = zip(*[sha.shm_calculator(ghp,degree,6371.2,90-lat,lon,'Geocentric') \\\n",
    "                 for lat in lats for lon in longs])\n",
    "X = np.asarray(Bx).reshape(nlats,nlons)\n",
    "Y = np.asarray(By).reshape(nlats,nlons)\n",
    "Z = np.asarray(Bz).reshape(nlats,nlons)\n",
    "D, H, I, F = [mag.xyz2dhif(X, Y, Z)[el] for el in range(4)]\n",
    "\n",
    "# Plot the desired field component map\n",
    "el_dict={'X':X, 'Y':Y, 'Z':Z, 'D':D, 'H':H, 'I':I, 'F':F}\n",
    "field_plotter(el2plot, el_dict[el2plot])"
   ]
  },
  {
   "cell_type": "markdown",
   "metadata": {},
   "source": [
    "# (4.) The International Geomagnetic Reference Field\n",
    "The latest version of the IGRF is IGRF13 which consists of a main-field model every five years from 1900.0 to 2020.0 and a secular variation model for 2020-2025. The main field models have spherical harmonic degree (n) and order (m) 10 up to 1995 and n=m=13 from 2000 onwards. The secular variation model has n=m=8.\n",
    "\n",
    "The coefficients are first loaded into a pandas (pd) dataframe: "
   ]
  },
  {
   "cell_type": "code",
   "execution_count": null,
   "metadata": {},
   "outputs": [],
   "source": [
    "IGRF13_FILE = os.path.abspath('../external/IGRF13coeffs.txt')\n",
    "igrf13 = pd.read_csv(IGRF13_FILE, delim_whitespace=True,  header=3)\n",
    "igrf13.head(10)  # Check the values have loaded correctly"
   ]
  },
  {
   "cell_type": "markdown",
   "metadata": {},
   "source": [
    "## Question 2a\n",
    "\n",
    "The scalar potential of the geomagnetic field can be written as follows:\n",
    "\n",
    "$$\\begin{align}\n",
    "\\Omega(\\theta,\\phi,r) = \\frac{a}{\\mu_0} \\sum_{n=1}^{\\inf} \\left[ \\sum_{m=1}^n \\left(\\frac{a}{r}\\right)^{n+1} \\left( g_n^m\\cos(m\\phi) + h_n^m\\sin(m\\phi) \\right) \\\\\n",
    "+ \\left( \\frac{r}{a}\\right)^n \\left( q_n^m\\cos(m\\phi) + s_n^m\\sin(m\\phi) \\right) \\right] P_n^m(\\cos(\\theta))\n",
    "\\end{align}$$\n",
    "\n",
    "Name and briefly explain each of the terms in this equation, and note the SI unit where applicable.\n",
    "\n",
    "**[6%]**"
   ]
  },
  {
   "cell_type": "markdown",
   "metadata": {},
   "source": [
    "## Question 2b\n",
    "\n",
    "Describe with the aid of an equation how the magnetic potential $\\Omega$ and magnetic induction $\\bf{B}$ relate to each other.\n",
    "\n",
    "What is the main assumption we must make for this relation to be valid?\n",
    "\n",
    "**[3%]**"
   ]
  },
  {
   "cell_type": "markdown",
   "metadata": {},
   "source": [
    "## Question 2c\n",
    "\n",
    "According to the IGRF model, the dipole component of the field in 1900 can be described by the Gauss coefficients with the following values:\n",
    "\n",
    "| Gauss coefficient | Value (nT) |\n",
    "| :- | -: |\n",
    "| $g_1^0$ | -31,543 |\n",
    "|$g_1^1$ | -2298 |\n",
    "| $h_1^1$ | 5922 |\n",
    "\n",
    "Edinburgh is located at approximately 56&deg;N, 0&deg;E, and is at sea level (0km altitude), which is locally equivalent to a spherical radius of 6363.5km.\n",
    "\n",
    "Based on the equations from (2a) and (2b), derive the equations for the vector components of the dipole magnetic field in the X, Y, and Z directions, for internal field sources only.\n",
    "\n",
    "Hence, calculate the field components values F, H, D and I.\n",
    "\n",
    "Note that $P_1^0(\\cos\\theta)=\\cos\\theta$, and $P_1^1(\\cos\\theta)=\\sin\\theta$, and Earth's mean spherical radius is 6,371.2km.\n",
    "\n",
    "\n",
    "**[10%]**"
   ]
  },
  {
   "cell_type": "markdown",
   "metadata": {},
   "source": [
    "# Question 2d\n",
    "\n",
    "Using the date and position given for Edinburgh in (2c), set the inputs below to calculate field values to degree $n=13$.\n",
    "\n",
    "Run the next cell to compute the X, Y, Z, H, D, I and F values for the field. What values do you get, and why do they differ from your manually computed values from (2c)?\n",
    "\n",
    "Using the online BGS IGRF calculator at\n",
    "https://geomag.bgs.ac.uk/data_service/models_compass/igrf_calc.html, you can input the given position and date for Edinburgh to compute values for both the field and its secular variation (SV).\n",
    "\n",
    "How does the magnitude of the secular variation of F compare to the difference between your computed field values from (2c) and the first part of this question?\n",
    "\n",
    "The airport runway at Edinburgh is painted with the declination value rounded to the nearest 10&deg;. Given the declination and its SV given by the online calculator, and assuming SV remains constant, what year would the runway next need to be repainted in order to remain accurate to the nearest 10&deg;?\n",
    "\n",
    "**[8%]**"
   ]
  },
  {
   "cell_type": "markdown",
   "metadata": {},
   "source": [
    "### >>  >> USER INPUT HERE: Set the input parameters\n",
    "### Compute magnetic field values for a single location"
   ]
  },
  {
   "cell_type": "code",
   "execution_count": null,
   "metadata": {},
   "outputs": [],
   "source": [
    "location = 'Place name'\n",
    "ctype    = 'Geocentric'  # coordinate type\n",
    "altitude = 6731.2          # in km above the spheroid if ctype = 'Geodetic', radial distance if ctype = 'Geocentric'\n",
    "colat    = 42         # NB colatitude, not latitude\n",
    "long     = 42         # longitude\n",
    "date     = 2020.0      # Date for the field estimates\n",
    "NMAX     = 10          # Maximum spherical harmonic degree of the model; Change this from 1 to 13 for the full IGRF model"
   ]
  },
  {
   "cell_type": "markdown",
   "metadata": {},
   "source": [
    "Now calculate the IGRF geomagnetic field estimates."
   ]
  },
  {
   "cell_type": "code",
   "execution_count": null,
   "metadata": {},
   "outputs": [],
   "source": [
    "# Calculate the gh coefficient values for the supplied date\n",
    "if date == 2020.0:\n",
    "    gh = igrf13['2020.0']\n",
    "elif date < 2020.0:\n",
    "    date_1 = (date//5)*5\n",
    "    date_2 = date_1 + 5\n",
    "    w1 = date-date_1\n",
    "    w2 = date_2-date\n",
    "    gh = np.array((w2*igrf13[str(date_1)] + w1*igrf13[str(date_2)])/(w1+w2))\n",
    "elif date > 2020.0:\n",
    "    gh =np.array(igrf13['2020.0'] + (date-2020.0)*igrf13['2020-25'])\n",
    "\n",
    "gh = np.append(0., gh) # Add a zero monopole term corresponding to g(0,0)\n",
    "\n",
    "bxyz = shm_calculator(gh, NMAX, altitude, colat, long, ctype)\n",
    "dec, hoz ,inc , eff = mag.xyz2dhif(bxyz[0], bxyz[1], bxyz[2])\n",
    "\n",
    "# Print out the results\n",
    "print('\\nGeomagnetic field values at: ', location+', '+ str(date), '\\n')\n",
    "print('Declination (D):', '{: .2f}'.format(dec), 'degrees')\n",
    "print('Inclination (I):', '{: .2f}'.format(inc), 'degrees')\n",
    "print('Horizontal intensity (H):', '{: .1f}'.format(hoz), 'nT')\n",
    "print('Total intensity (F)     :', '{: .1f}'.format(eff), 'nT')\n",
    "print('North component (X)     :', '{: .1f}'.format(bxyz[0]), 'nT')\n",
    "print('East component (Y)      :', '{: .1f}'.format(bxyz[1]), 'nT')\n",
    "print('Vertical component (Z)  :', '{: .1f}'.format(bxyz[2]), 'nT')"
   ]
  },
  {
   "cell_type": "markdown",
   "metadata": {},
   "source": [
    "# (5.) Maps of the IGRF\n",
    "Now draw maps of the IGRF at the date selected above. The latitude range is set at -80 degrees to +80 degrees and the longitude range -180 degrees to +180 degrees and IGRF values for (X, Y, Z) are calculated on a 5 degree grid (this may take a few seconds to complete).\n",
    "\n",
    "## >>  >> USER INPUT HERE:  Set the element to plot"
   ]
  },
  {
   "cell_type": "code",
   "execution_count": null,
   "metadata": {},
   "outputs": [],
   "source": [
    "ctype    = 'Geocentric'  # coordinate type\n",
    "altitude = 6371.2          # in km above the spheroid if ctype = 'Geodetic', radial distance if ctype = 'Geocentric'\n",
    "date     = 2020.0      # Date for the field estimates\n",
    "NMAX     = 10          # Maximum spherical harmonic degree of the model; \n",
    "el2plot = 'X'"
   ]
  },
  {
   "cell_type": "code",
   "execution_count": null,
   "metadata": {},
   "outputs": [],
   "source": [
    "# Calculate the gh coefficient values for the supplied date\n",
    "if date == 2020.0:\n",
    "    gh = igrf13['2020.0']\n",
    "elif date < 2020.0:\n",
    "    date_1 = (date//5)*5\n",
    "    date_2 = date_1 + 5\n",
    "    w1 = date-date_1\n",
    "    w2 = date_2-date\n",
    "    gh = np.array((w2*igrf13[str(date_1)] + w1*igrf13[str(date_2)])/(w1+w2))\n",
    "elif date > 2020.0:\n",
    "    gh =np.array(igrf13['2020.0'] + (date-2020.0)*igrf13['2020-25'])\n",
    "\n",
    "gh = np.append(0., gh) # Add a zero monopole term corresponding to g(0,0)"
   ]
  },
  {
   "cell_type": "code",
   "execution_count": null,
   "metadata": {},
   "outputs": [],
   "source": [
    "def IGRF_plotter(el_name, vals, date):\n",
    "    # A function to plot a field component map for the IGRF\n",
    "    if el_name=='D':\n",
    "        cvals = np.arange(-30,30,2)\n",
    "    else:\n",
    "        cvals = 30\n",
    "    fig, ax = plt.subplots(figsize=(16, 8))\n",
    "    cplt = ax.contourf(longs, lats, vals, levels=cvals,cmap = 'seismic')\n",
    "    #ax.clabel(cplt, cplt.levels, inline=True, fmt='%d', fontsize=10)\n",
    "    fig.colorbar(cplt)\n",
    "    ax.set_title('IGRF: '+ el_name + ' (' + str(date) + ')', fontsize=20)\n",
    "    ax.set_xlabel('Longitude', fontsize=16)\n",
    "    ax.set_ylabel('Latitude', fontsize=16)"
   ]
  },
  {
   "cell_type": "code",
   "execution_count": null,
   "metadata": {},
   "outputs": [],
   "source": [
    "# Set up a latitude, longitude grid, and calculate the field at each grid point\n",
    "nlats = 40\n",
    "nlons = 91\n",
    "longs  = np.linspace(-180, 180, nlons)\n",
    "lats   = np.linspace(-80, 80, nlats)\n",
    "Bx, By, Bz = zip(*[sha.shm_calculator(gh,NMAX,altitude,90-lat,lon,ctype) \\\n",
    "                 for lat in lats for lon in longs])\n",
    "X = np.asarray(Bx).reshape(nlats,nlons)\n",
    "Y = np.asarray(By).reshape(nlats,nlons)\n",
    "Z = np.asarray(Bz).reshape(nlats,nlons)\n",
    "D, H, I, F = [mag.xyz2dhif(X, Y, Z)[el] for el in range(4)]\n",
    "\n",
    "# Plot the chosen field component map\n",
    "el_dict={'X':X, 'Y':Y, 'Z':Z, 'D':D, 'H':H, 'I':I, 'F':F}\n",
    "IGRF_plotter(el2plot, el_dict[el2plot], date)"
   ]
  },
  {
   "cell_type": "markdown",
   "metadata": {},
   "source": [
    "## Question 3\n",
    "\n",
    "Using the code cells above plot maps of the vertical field component at the core-mantle boundary (radius $c=3485km$), the Earth's surface (radius $a=6371.2km$), and at the distance of the Moon's orbit (radius $m=a+350,000km$).\n",
    "\n",
    "At each radius, plot a map for both degree $n=1$ and degree $n=13$.\n",
    "\n",
    "Describe the spatial features of the field at each radius and spatial scale, and explain if and/or why they differ. Explain why the maps for degree $n=1$ and degree $n=13$ do or do not differ at each radius.\n",
    "\n",
    "Use the date of 1995.0. Use map images to illustrate your answer where relevant.\n",
    "\n",
    "**[8%]**"
   ]
  }
 ],
 "metadata": {
  "kernelspec": {
   "display_name": "Python 3 (Spyder)",
   "language": "python3",
   "name": "python3"
  },
  "language_info": {
   "codemirror_mode": {
    "name": "ipython",
    "version": 3
   },
   "file_extension": ".py",
   "mimetype": "text/x-python",
   "name": "python",
   "nbconvert_exporter": "python",
   "pygments_lexer": "ipython3",
   "version": "3.7.6"
  }
 },
 "nbformat": 4,
 "nbformat_minor": 2
}
