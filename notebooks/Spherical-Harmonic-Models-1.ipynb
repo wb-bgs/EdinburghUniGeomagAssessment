{
 "cells": [
  {
   "cell_type": "markdown",
   "metadata": {},
   "source": [
    "<h1><center>University of Edinburgh Geomagnetism Tutorial</center></h1>\n",
    "\n",
    "<h1><center>Spherical harmonic models 1</center></h1>"
   ]
  },
  {
   "cell_type": "markdown",
   "metadata": {},
   "source": [
    "# 0. Spherical harmonics and representing the geomagnetic field"
   ]
  },
  {
   "cell_type": "code",
   "execution_count": null,
   "metadata": {},
   "outputs": [],
   "source": [
    "### Import notebook dependencies\n",
    "\n",
    "import os\n",
    "import sys\n",
    "import numpy as np\n",
    "import pandas as pd\n",
    "import matplotlib.pyplot as plt\n",
    "%matplotlib inline \n",
    "\n",
    "sys.path.append('..')\n",
    "from src import sha_lib as sha, mag_lib as mag"
   ]
  },
  {
   "cell_type": "markdown",
   "metadata": {},
   "source": [
    "The north (X), east (Y) and vertical (Z) (downwards) components of the internally-generated geomagnetic field at colatitude $\\theta$, longitude $\\phi$ and radial distance $r$ (in geocentric coordinates with reference radius $a=6371.2$ km for the IGRF) are written as follows:\n",
    "\n",
    "$$\\begin{align}\n",
    "&X(\\theta,\\phi)= \\sum_{n=1}^N\\left(\\frac{a}{r}\\right)^{n+2}\\left[ \\sum_{m=1}^n\\left( g_n^m\\cos m\\phi+h_n^m\\sin m\\phi \\right)X_n^m\\right]\\\\[6pt]\n",
    "&Y(\\theta,\\phi)= \\sum_{n=1}^N\\left(\\frac{a}{r}\\right)^{n+2} \\sum_{m=1}^n \\left(g_n^m\\sin m\\phi-h_n^m\\cos m\\phi \\right)Y_n^m \\\\[6pt]\n",
    "&Z(\\theta,\\phi)= \\sum_{n=1}^N\\left(\\frac{a}{r}\\right)^{n+2} \\left[\\sum_{m=1}^n\\left( g_n^m\\cos m\\phi+h_n^m\\sin m\\phi \\right)Z_n^m\\right]\\\\[6pt]\n",
    "\\text{with}&\\\\[6pt]\n",
    "&X_n^m=\\frac{\\partial P_n^n}{\\partial\\theta}\\\\[6pt]\n",
    "&Y_n^m=\\frac{m}{\\sin \\theta}P_n^m \\kern{10ex} \\text{(Except at the poles where $Y_n^m=X_n^m\\cos \\theta$.)}\\\\[6pt]\n",
    "&Z_n^m=-(n+1)P_n^m\n",
    "\\end{align}$$\n",
    "\n",
    "\n",
    "where $n$ and $m$ are spherical harmonic degree and order, respectively, and the ($g_n^m, h_n^m$) are the Gauss coefficients for a particular model (e.g. the IGRF).\n",
    "\n",
    "The Associated Legendre functions ($P_n^m$) of degree $n$ and order $m$ are defined, in Schmidt semi-normalised form (e.g. Malin and Barraclough, 1981) may be used to calculate the $X^m_n$, $Y^m_n$ and $Z^m_n$, for example\n"
   ]
  },
  {
   "cell_type": "markdown",
   "metadata": {},
   "source": [
    "# 1. Plotting $P_n^m$\n",
    "The $P_n^m(\\theta)$ are building blocks for computing geomagnetic field models given a spherical harmonic model. It's instructive to visualise these functions and below you can experiment by setting different values of spherical harmonic degree ($n$) and order ($m \\le n$). Note how the choice of $n$ and $m$ affects the number of zeroes of the functions. \n",
    "\n",
    "The functions are plotted on a semi-circle representing the surface of the Earth, with the inner core added for cosmetic purposes only! Again, purely for cosmetic purposes, the functions are scaled to fit within $\\pm$20% of the Earth's surface."
   ]
  },
  {
   "cell_type": "markdown",
   "metadata": {},
   "source": [
    "### >> Exercise 1: USER INPUT HERE: Set the spherical harmonic degree and order for the plot"
   ]
  },
  {
   "cell_type": "code",
   "execution_count": null,
   "metadata": {},
   "outputs": [],
   "source": [
    "degree = 5\n",
    "order  = 3"
   ]
  },
  {
   "cell_type": "code",
   "execution_count": null,
   "metadata": {},
   "outputs": [],
   "source": [
    "# Calculate Pnm and Xmn values every 0.5 degrees\n",
    "colat   = np.linspace(0,180,361)\n",
    "pnmvals = np.zeros(len(colat))\n",
    "xnmvals = np.zeros(len(colat))\n",
    "\n",
    "idx     = sha.pnmindex(degree,order)\n",
    "for i, cl in enumerate(colat):\n",
    "    p,x = sha.pxyznm_calc(degree, cl)[0:2]\n",
    "    pnmvals[i] = p[idx]\n",
    "    xnmvals[i] = x[idx]\n",
    "    \n",
    "theta   = np.deg2rad(colat)\n",
    "ct      = np.cos(theta)\n",
    "st      = np.sin(theta)\n",
    "\n",
    "# Numbers mimicking the Earth's surface and outer core radii\n",
    "e_rad   = 6.371\n",
    "c_rad   = 3.485\n",
    "\n",
    "# Scale values to fit within 10% of \"Earth's surface\". Firstly the P(n,m),\n",
    "shell   = 0.2*e_rad\n",
    "pmax    = np.abs(pnmvals).max()\n",
    "pnmvals = pnmvals*shell/pmax + e_rad\n",
    "xp      = pnmvals*st\n",
    "yp      = pnmvals*ct\n",
    "\n",
    "\n",
    "# Values to draw the Earth's and outer core surfaces as semi-circles\n",
    "e_xvals = e_rad*st\n",
    "e_yvals = e_rad*ct\n",
    "c_xvals = e_xvals*c_rad/e_rad\n",
    "c_yvals = e_yvals*c_rad/e_rad\n",
    "\n",
    "# Earth-like background framework for plots\n",
    "def eplot(ax):\n",
    "    ax.set_aspect('equal')\n",
    "    ax.set_axis_off()\n",
    "    ax.plot(e_xvals,e_yvals, color='blue')\n",
    "    ax.plot(c_xvals,c_yvals, color='black')\n",
    "    ax.fill_between(c_xvals, c_yvals, y2=0, color='lightgrey')\n",
    "    ax.plot((0, 0), (-e_rad, e_rad), color='black')\n",
    "\n",
    "# Plot the P(n,m) \n",
    "fig, axes = plt.subplots(figsize=(18, 8))\n",
    "#fig.suptitle('Degree (n) = '+str(degree)+', order (m) = '+str(order), fontsize=20)\n",
    "                    \n",
    "axes.plot(xp,yp, color='red')\n",
    "axes.set_title('P('+ str(degree)+',' + str(order)+')', fontsize=16)\n",
    "eplot(axes)\n"
   ]
  },
  {
   "cell_type": "markdown",
   "metadata": {},
   "source": [
    "# 2. Plotting 2D representations of the $P_n^m$\n",
    "\n"
   ]
  },
  {
   "cell_type": "markdown",
   "metadata": {},
   "source": [
    "## Calculating geomagnetic field values \n",
    "The function below calculates geomagnetic field values at a point defined by its colatitude, longitude and altitude, using a spherical harmonic model of maximum degree _nmax_ supplied as an array _gh_. The parameter _coord_ is a string specifying whether the input position is in geocentric coordinates (when _altitude_ should be the geocentric distance in km) or geodetic coordinates (when altitude is distance above mean sea level in km). \n",
    "\n",
    "Though it's unconventional, we've chosen to include a monopole term, set to zero, at index zero in the _gh_ array.<br>"
   ]
  },
  {
   "cell_type": "code",
   "execution_count": null,
   "metadata": {},
   "outputs": [],
   "source": [
    "def shm_calculator(gh, nmax, altitude, colat, long, coord):\n",
    "    RREF     = 6371.2 #The reference radius assumed by the IGRF\n",
    "    degree   = nmax\n",
    "    phi      = long\n",
    "\n",
    "    if (coord == 'Geodetic'):\n",
    "        # Geodetic to geocentric conversion using the WGS84 spheroid\n",
    "        rad, theta, sd, cd = sha.gd2gc(altitude, colat)\n",
    "    else:\n",
    "        rad   = altitude\n",
    "        theta = colat\n",
    "\n",
    "    # Function 'rad_powers' to create an array with values of (a/r)^(n+2) for n = 0,1, 2 ..., degree\n",
    "    rpow = sha.rad_powers(degree, RREF, rad)\n",
    "\n",
    "    # Function 'csmphi' to create arrays with cos(m*phi), sin(m*phi) for m = 0, 1, 2 ..., degree\n",
    "    cmphi, smphi = sha.csmphi(degree,phi)\n",
    "\n",
    "    # Function 'gh_phi_rad' to create arrays with terms such as [g(3,2)*cos(2*phi) + h(3,2)*sin(2*phi)]*(a/r)**5 \n",
    "    ghxz, ghy = sha.gh_phi_rad(gh, degree, cmphi, smphi, rpow)\n",
    "\n",
    "    # Function 'pnm_calc' to calculate arrays of the Associated Legendre Polynomials for n (&m) = 0,1, 2 ..., degree\n",
    "    pnm, xnm, ynm, znm = sha.pxyznm_calc(degree, theta)\n",
    "\n",
    "    # Geomagnetic field components are calculated as a dot product\n",
    "    X =  np.dot(ghxz, xnm)\n",
    "    Y =  np.dot(ghy,  ynm)\n",
    "    Z =  np.dot(ghxz, znm)\n",
    "\n",
    "    # Convert back to geodetic (X, Y, Z) if required\n",
    "    if (coord == 'Geodetic'):\n",
    "        t = X\n",
    "        X = X*cd + Z*sd\n",
    "        Z = Z*cd - t*sd\n",
    "\n",
    "    return((X, Y, Z))"
   ]
  },
  {
   "cell_type": "markdown",
   "metadata": {},
   "source": [
    "Enter the geomagnetic element to plot below: <br>\n",
    "D = declination <br>\n",
    "H = horizontal intensity <br>\n",
    "I = inclination <br>\n",
    "X = north component <br>\n",
    "Y = east component <br>\n",
    "Z = vertically (downwards) component <br>\n",
    "F = total intensity.\n",
    "\n",
    "Insert some values for the first three Gauss coefficients in the variable *ghp*.\n",
    "\n",
    "- Try [1, 0, 0] - boring!\n",
    "- Try [1,1,1] - interesting.\n",
    "- Look the different components (e.g. 'D', 'Z', 'F', 'I')\n",
    "\n",
    "- Can you explain why [1,0,0] with 'D' generates a blank image?\n",
    "- Try [1,0,0] with 'I' - why do the inclination and latitude contours not match? Why is the inclination angle reversed relative to the general convention seen in the real Earth (i.e. positive in the northern hemisphere)? How would you fix this? What does it imply about the Earth's magnetic field?\n"
   ]
  },
  {
   "cell_type": "markdown",
   "metadata": {},
   "source": [
    "### >>  >> Exercise 2: USER INPUT HERE: Set the input parameters"
   ]
  },
  {
   "cell_type": "code",
   "execution_count": null,
   "metadata": {},
   "outputs": [],
   "source": [
    "ghp = np.empty([3,1]) # Set up an empty array and fill it with the values for the first three Gauss coefficients\n",
    "ghp[0] = 1  # in nT\n",
    "ghp[1] = 1\n",
    "ghp[2] = 0\n",
    "el2plot = 'Z'  # element to plot e.g, 'F', 'Z', 'D'"
   ]
  },
  {
   "cell_type": "code",
   "execution_count": null,
   "metadata": {},
   "outputs": [],
   "source": [
    "def field_plotter(el_name, vals):\n",
    "    if el_name=='D':\n",
    "        cvals = np.arange(-25,30,5)  # If using 'D', limit the contours to -25 to +30 degrees\n",
    "    else:\n",
    "        cvals = 15  # Use 15 intervals\n",
    "    fig, ax = plt.subplots(figsize=(16, 8))\n",
    "    cplt = ax.contourf(longs, lats, vals, levels=cvals)\n",
    "    cbar = fig.colorbar(cplt)\n",
    "    ax.set_xlabel('Longitude', fontsize=16)\n",
    "    ax.set_ylabel('Latitude', fontsize=16)\n",
    "    ax.set_title('Degree 1 only', fontsize=16)\n",
    "    if el_name=='D' or el_name=='I':\n",
    "        cbar.set_label(str(el_name) + ' (degrees)', rotation=270, fontsize=14)\n",
    "    else:\n",
    "        cbar.set_label(str(el_name) + ' (nT)', rotation=270, fontsize=14)"
   ]
  },
  {
   "cell_type": "code",
   "execution_count": null,
   "metadata": {},
   "outputs": [],
   "source": [
    "# Make a regular grid of latitude, longitude points to calculate the field at\n",
    "nlats = 40\n",
    "nlons = 91\n",
    "degree = 1\n",
    "longs  = np.linspace(-180, 180, nlons)\n",
    "lats   = np.linspace(-80, 80, nlats)\n",
    "ghp = np.append(0., ghp)\n",
    "Bx, By, Bz = zip(*[sha.shm_calculator(ghp,degree,6371.2,90-lat,lon,'Geocentric') \\\n",
    "                 for lat in lats for lon in longs])\n",
    "X = np.asarray(Bx).reshape(nlats,nlons)\n",
    "Y = np.asarray(By).reshape(nlats,nlons)\n",
    "Z = np.asarray(Bz).reshape(nlats,nlons)\n",
    "D, H, I, F = [mag.xyz2dhif(X, Y, Z)[el] for el in range(4)]\n",
    "\n",
    "el_dict={'X':X, 'Y':Y, 'Z':Z, 'D':D, 'H':H, 'I':I, 'F':F}\n",
    "field_plotter(el2plot, el_dict[el2plot])"
   ]
  },
  {
   "cell_type": "markdown",
   "metadata": {},
   "source": [
    "# 3. The International Geomagnetic Reference Field\n",
    "The latest version of the IGRF is IGRF13 which consists of a main-field model every five years from 1900.0 to 2020.0 and a secular variation model for 2020-2025. The main field models have spherical harmonic degree (n) and order (m) 10 up to 1995 and n=m=13 from 2000 onwards. The secular variation model has n=m=8.\n",
    "\n",
    "The coefficients are first loaded into a pandas (pd) database: "
   ]
  },
  {
   "cell_type": "code",
   "execution_count": null,
   "metadata": {},
   "outputs": [],
   "source": [
    "IGRF13_FILE = os.path.abspath('../external/IGRF13coeffs.txt')\n",
    "igrf13 = pd.read_csv(IGRF13_FILE, delim_whitespace=True,  header=3)\n",
    "igrf13.head()  # Check the values have loaded correctly"
   ]
  },
  {
   "cell_type": "markdown",
   "metadata": {},
   "source": [
    "## a) Compute magnetic field values for a single location"
   ]
  },
  {
   "cell_type": "markdown",
   "metadata": {},
   "source": [
    "### >>  >> Exercise 3: USER INPUT HERE: Set the input parameters"
   ]
  },
  {
   "cell_type": "code",
   "execution_count": null,
   "metadata": {},
   "outputs": [],
   "source": [
    "location = 'Scotland'\n",
    "ctype    = 'Geodetic'  # coordinate type\n",
    "altitude = 35000          # in km above the spheroid if ctype = 'Geodetic', radial distance if ctype = 'Geocentric'\n",
    "colat    = 34          # NB colatitude, not latitude\n",
    "long     = 0          # longitude\n",
    "date     = 2020.0      # Date for the field estimates\n",
    "NMAX     = 13          # Maximum spherical harmonic degree of the model; Change this from 1 to 13 for the full IGRF model"
   ]
  },
  {
   "cell_type": "markdown",
   "metadata": {},
   "source": [
    "Now calculate the IGRF geomagnetic field estimates."
   ]
  },
  {
   "cell_type": "code",
   "execution_count": null,
   "metadata": {},
   "outputs": [],
   "source": [
    "# Calculate the gh values for the supplied date\n",
    "if date == 2020.0:\n",
    "    gh = igrf13['2020.0']\n",
    "elif date < 2020.0:\n",
    "    date_1 = (date//5)*5\n",
    "    date_2 = date_1 + 5\n",
    "    w1 = date-date_1\n",
    "    w2 = date_2-date\n",
    "    gh = np.array((w2*igrf13[str(date_1)] + w1*igrf13[str(date_2)])/(w1+w2))\n",
    "elif date > 2020.0:\n",
    "    gh =np.array(igrf13['2020.0'] + (date-2020.0)*igrf13['2020-25'])\n",
    "\n",
    "gh = np.append(0., gh) # Add a zero monopole term corresponding to g(0,0)\n",
    "\n",
    "bxyz = shm_calculator(gh, NMAX, altitude, colat, long, ctype)\n",
    "dec, hoz ,inc , eff = mag.xyz2dhif(bxyz[0], bxyz[1], bxyz[2])\n",
    "\n",
    "print('\\nGeomagnetic field values at: ', location+', '+ str(date), '\\n')\n",
    "print('Declination (D):', '{: .2f}'.format(dec), 'degrees')\n",
    "print('Inclination (I):', '{: .2f}'.format(inc), 'degrees')\n",
    "print('Horizontal intensity (H):', '{: .1f}'.format(hoz), 'nT')\n",
    "print('Total intensity (F)     :', '{: .1f}'.format(eff), 'nT')\n",
    "print('North component (X)     :', '{: .1f}'.format(bxyz[0]), 'nT')\n",
    "print('East component (Y)      :', '{: .1f}'.format(bxyz[1]), 'nT')\n",
    "print('Vertical component (Z)  :', '{: .1f}'.format(bxyz[2]), 'nT')"
   ]
  },
  {
   "cell_type": "markdown",
   "metadata": {},
   "source": [
    "# b) Maps of the IGRF\n",
    "Now draw maps of the IGRF at the date selected above. The latitude range is set at -80 degrees to +80 degrees and the longitude range -180 degrees to +180 degrees and IGRF values for (X, Y, Z) are calculated on a 5 degree grid (this may take a few seconds to complete).\n",
    "\n",
    "## >>  >> Exercise 4: USER INPUT HERE:  Set the element to plot"
   ]
  },
  {
   "cell_type": "code",
   "execution_count": null,
   "metadata": {},
   "outputs": [],
   "source": [
    "ctype    = 'Geocentric'  # coordinate type\n",
    "altitude = 6371.2          # in km above the spheroid if ctype = 'Geodetic', radial distance if ctype = 'Geocentric'\n",
    "date     = 2020.0      # Date for the field estimates\n",
    "NMAX     = 13          # Maximum spherical harmonic degree of the model; \n",
    "el2plot = 'F'"
   ]
  },
  {
   "cell_type": "code",
   "execution_count": null,
   "metadata": {},
   "outputs": [],
   "source": [
    "# Calculate the gh values for the supplied date\n",
    "if date == 2020.0:\n",
    "    gh = igrf13['2020.0']\n",
    "elif date < 2020.0:\n",
    "    date_1 = (date//5)*5\n",
    "    date_2 = date_1 + 5\n",
    "    w1 = date-date_1\n",
    "    w2 = date_2-date\n",
    "    gh = np.array((w2*igrf13[str(date_1)] + w1*igrf13[str(date_2)])/(w1+w2))\n",
    "elif date > 2020.0:\n",
    "    gh =np.array(igrf13['2020.0'] + (date-2020.0)*igrf13['2020-25'])\n",
    "\n",
    "gh = np.append(0., gh) # Add a zero monopole term corresponding to g(0,0)"
   ]
  },
  {
   "cell_type": "code",
   "execution_count": null,
   "metadata": {},
   "outputs": [],
   "source": [
    "def IGRF_plotter(el_name, vals, date):\n",
    "    if el_name=='D':\n",
    "        cvals = np.arange(-30,30,2)\n",
    "    else:\n",
    "        cvals = 30\n",
    "    fig, ax = plt.subplots(figsize=(16, 8))\n",
    "    cplt = ax.contourf(longs, lats, vals, levels=cvals,cmap = 'seismic')\n",
    "    #ax.clabel(cplt, cplt.levels, inline=True, fmt='%d', fontsize=10)\n",
    "    fig.colorbar(cplt)\n",
    "    ax.set_title('IGRF: '+ el_name + ' (' + str(date) + ')', fontsize=20)\n",
    "    ax.set_xlabel('Longitude', fontsize=16)\n",
    "    ax.set_ylabel('Latitude', fontsize=16)"
   ]
  },
  {
   "cell_type": "code",
   "execution_count": null,
   "metadata": {},
   "outputs": [],
   "source": [
    "nlats = 40\n",
    "nlons = 91\n",
    "longs  = np.linspace(-180, 180, nlons)\n",
    "lats   = np.linspace(-80, 80, nlats)\n",
    "Bx, By, Bz = zip(*[sha.shm_calculator(gh,NMAX,altitude,90-lat,lon,ctype) \\\n",
    "                 for lat in lats for lon in longs])\n",
    "X = np.asarray(Bx).reshape(nlats,nlons)\n",
    "Y = np.asarray(By).reshape(nlats,nlons)\n",
    "Z = np.asarray(Bz).reshape(nlats,nlons)\n",
    "D, H, I, F = [mag.xyz2dhif(X, Y, Z)[el] for el in range(4)]\n",
    "\n",
    "el_dict={'X':X, 'Y':Y, 'Z':Z, 'D':D, 'H':H, 'I':I, 'F':F}\n",
    "IGRF_plotter(el2plot, el_dict[el2plot], date)"
   ]
  },
  {
   "cell_type": "markdown",
   "metadata": {},
   "source": [
    "### Exercise\n",
    "Produce a similar plot for the *secular variation* according to the IGRF. [Hint: compute gh values for 2019 and plot the difference between them. Alternatively, pick out the last column of the igrf13 data frame]"
   ]
  },
  {
   "cell_type": "markdown",
   "metadata": {},
   "source": [
    "### References\n",
    "\n",
    "Malin, S. R. . and Barraclough, D., (1981). An algorithm for synthesizing the geomagnetic field, Computers & Geosciences. Pergamon, 7(4), pp. 401–405. doi: 10.1016/0098-3004(81)90082-0."
   ]
  }
 ],
 "metadata": {
  "kernelspec": {
   "display_name": "Python 3",
   "language": "python",
   "name": "python3"
  },
  "language_info": {
   "codemirror_mode": {
    "name": "ipython",
    "version": 3
   },
   "file_extension": ".py",
   "mimetype": "text/x-python",
   "name": "python",
   "nbconvert_exporter": "python",
   "pygments_lexer": "ipython3",
   "version": "3.7.5"
  }
 },
 "nbformat": 4,
 "nbformat_minor": 2
}
